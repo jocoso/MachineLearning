{
 "cells": [
  {
   "cell_type": "code",
   "execution_count": 1,
   "metadata": {},
   "outputs": [],
   "source": [
    "#Import the libraries\n",
    "import numpy as np\n",
    "import pandas as pd\n",
    "import seaborn as sns\n",
    "\n",
    "%matplotlib inline"
   ]
  },
  {
   "cell_type": "code",
   "execution_count": 2,
   "metadata": {},
   "outputs": [
    {
     "data": {
      "text/plain": [
       "Text(0, 0.5, 'Y')"
      ]
     },
     "execution_count": 2,
     "metadata": {},
     "output_type": "execute_result"
    },
    {
     "data": {
      "image/png": "[encoded data removed]",
      "text/plain": [
       "<Figure size 432x288 with 1 Axes>"
      ]
     },
     "metadata": {
      "needs_background": "light"
     },
     "output_type": "display_data"
    }
   ],
   "source": [
    "# This file generates two list of numbers: X and Y. \n",
    "\n",
    "NUM_SAMPLES = 100\n",
    "X = np.linspace(0, 10, NUM_SAMPLES)\n",
    "Y = 0.3 * X - 2 + np.random.randn(NUM_SAMPLES) * 0.3\n",
    "\n",
    "# Scatter plot\n",
    "import matplotlib.pyplot as plt\n",
    "plt.scatter(X, Y)\n",
    "plt.xlabel('X')\n",
    "plt.ylabel('Y')"
   ]
  },
  {
   "cell_type": "code",
   "execution_count": 3,
   "metadata": {},
   "outputs": [
    {
     "data": {
      "text/plain": [
       "LinearRegression(copy_X=True, fit_intercept=True, n_jobs=None,\n",
       "         normalize=False)"
      ]
     },
     "execution_count": 3,
     "metadata": {},
     "output_type": "execute_result"
    }
   ],
   "source": [
    "from sklearn.model_selection import train_test_split\n",
    "\n",
    "X_train, X_test, y_train, y_test = train_test_split(X, Y, test_size = 0.2, random_state=2)\n",
    "from sklearn.linear_model import LinearRegression\n",
    "X_train = X_train.reshape([len(X_train), 1])\n",
    "y_train = y_train.reshape([len(y_train), 1])\n",
    "model_fit = LinearRegression()\n",
    "model_fit.fit(X_train, y_train)"
   ]
  },
  {
   "cell_type": "code",
   "execution_count": 4,
   "metadata": {},
   "outputs": [
    {
     "data": {
      "text/plain": [
       "array([[-9.33183920e-01],\n",
       "       [-1.65414572e+00],\n",
       "       [ 5.38779747e-01],\n",
       "       [-6.62823246e-01],\n",
       "       [ 2.08338924e-01],\n",
       "       [-1.83438617e+00],\n",
       "       [-1.23358467e+00],\n",
       "       [ 3.28499224e-01],\n",
       "       [ 2.38378999e-01],\n",
       "       [-1.22101899e-01],\n",
       "       [-3.19816745e-02],\n",
       "       [-1.95454646e+00],\n",
       "       [-1.44386519e+00],\n",
       "       [-5.42662947e-01],\n",
       "       [-9.03143845e-01],\n",
       "       [ 3.58539298e-01],\n",
       "       [-1.80434609e+00],\n",
       "       [ 6.88980122e-01],\n",
       "       [ 7.49060271e-01],\n",
       "       [-1.68418579e+00],\n",
       "       [-1.62410564e+00],\n",
       "       [-3.92462573e-01],\n",
       "       [ 6.28899972e-01],\n",
       "       [-3.62422498e-01],\n",
       "       [ 8.69220571e-01],\n",
       "       [-1.02330414e+00],\n",
       "       [-1.41382512e+00],\n",
       "       [-1.20354459e+00],\n",
       "       [-1.82182049e-01],\n",
       "       [-3.32382423e-01],\n",
       "       [-1.71422587e+00],\n",
       "       [ 8.99260646e-01],\n",
       "       [-1.47390527e+00],\n",
       "       [-2.12222124e-01],\n",
       "       [-2.72302273e-01],\n",
       "       [-7.52943471e-01],\n",
       "       [-6.20217494e-02],\n",
       "       [-6.32783171e-01],\n",
       "       [ 9.29300720e-01],\n",
       "       [-1.74426594e+00],\n",
       "       [ 1.48258775e-01],\n",
       "       [ 8.39180496e-01],\n",
       "       [ 7.19020196e-01],\n",
       "       [ 9.59340795e-01],\n",
       "       [ 5.98859897e-01],\n",
       "       [ 4.18619448e-01],\n",
       "       [-4.82582797e-01],\n",
       "       [-4.22502647e-01],\n",
       "       [-1.94159970e-03],\n",
       "       [ 6.58940047e-01],\n",
       "       [ 1.18218700e-01],\n",
       "       [-6.02743097e-01],\n",
       "       [ 5.81385500e-02],\n",
       "       [ 8.81786248e-02],\n",
       "       [ 4.48659523e-01],\n",
       "       [-2.42262198e-01],\n",
       "       [-9.93264069e-01],\n",
       "       [-8.43063695e-01],\n",
       "       [-4.52542722e-01],\n",
       "       [-7.22903396e-01],\n",
       "       [-1.86442624e+00],\n",
       "       [ 2.80984751e-02],\n",
       "       [-8.13023620e-01],\n",
       "       [-8.73103770e-01],\n",
       "       [-1.38378504e+00],\n",
       "       [-1.05334422e+00],\n",
       "       [-9.20618242e-02],\n",
       "       [-5.72703022e-01],\n",
       "       [ 5.68819822e-01],\n",
       "       [ 8.09140421e-01],\n",
       "       [-5.12622872e-01],\n",
       "       [-9.63223995e-01],\n",
       "       [-1.77430602e+00],\n",
       "       [ 2.68419074e-01],\n",
       "       [ 4.78699598e-01],\n",
       "       [-6.92863321e-01],\n",
       "       [-1.32370489e+00],\n",
       "       [ 1.78298849e-01],\n",
       "       [-1.53398542e+00],\n",
       "       [-7.82983546e-01]])"
      ]
     },
     "execution_count": 4,
     "metadata": {},
     "output_type": "execute_result"
    }
   ],
   "source": [
    "y_pred = model_fit.predict(X_train)\n",
    "y_pred"
   ]
  },
  {
   "cell_type": "code",
   "execution_count": 5,
   "metadata": {},
   "outputs": [
    {
     "name": "stdout",
     "output_type": "stream",
     "text": [
      "[[0.29739674]]\n"
     ]
    }
   ],
   "source": [
    "print(model_fit.coef_)"
   ]
  },
  {
   "cell_type": "code",
   "execution_count": 6,
   "metadata": {},
   "outputs": [
    {
     "name": "stdout",
     "output_type": "stream",
     "text": [
      "[-1.98458654]\n"
     ]
    }
   ],
   "source": [
    "print(model_fit.intercept_)"
   ]
  },
  {
   "cell_type": "code",
   "execution_count": 14,
   "metadata": {},
   "outputs": [
    {
     "data": {
      "text/plain": [
       "[<matplotlib.lines.Line2D at 0x7feac26cbc88>]"
      ]
     },
     "execution_count": 14,
     "metadata": {},
     "output_type": "execute_result"
    },
    {
     "data": {
      "image/png": "[encoded data removed]",
      "text/plain": [
       "<Figure size 432x288 with 1 Axes>"
      ]
     },
     "metadata": {
      "needs_background": "light"
     },
     "output_type": "display_data"
    }
   ],
   "source": [
    "plt.scatter(X, Y)\n",
    "plt.xlabel('X')\n",
    "plt.ylabel('Y')\n",
    "\n",
    "plt.plot(X_train, y_pred, 'r-')\n"
   ]
  },
  {
   "cell_type": "code",
   "execution_count": null,
   "metadata": {},
   "outputs": [],
   "source": []
  }
 ],
 "metadata": {
  "kernelspec": {
   "display_name": "Python 3",
   "language": "python",
   "name": "python3"
  },
  "language_info": {
   "codemirror_mode": {
    "name": "ipython",
    "version": 3
   },
   "file_extension": ".py",
   "mimetype": "text/x-python",
   "name": "python",
   "nbconvert_exporter": "python",
   "pygments_lexer": "ipython3",
   "version": "3.6.7"
  }
 },
 "nbformat": 4,
 "nbformat_minor": 2
}
